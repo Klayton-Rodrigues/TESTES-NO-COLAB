{
  "nbformat": 4,
  "nbformat_minor": 0,
  "metadata": {
    "colab": {
      "provenance": [],
      "authorship_tag": "ABX9TyOyqU/HjSGBnhSoENZJAUu2",
      "include_colab_link": true
    },
    "kernelspec": {
      "name": "python3",
      "display_name": "Python 3"
    },
    "language_info": {
      "name": "python"
    }
  },
  "cells": [
    {
      "cell_type": "markdown",
      "metadata": {
        "id": "view-in-github",
        "colab_type": "text"
      },
      "source": [
        "<a href=\"https://colab.research.google.com/github/Klayton-Rodrigues/TESTES-NO-COLAB/blob/main/M%C3%B3dulo_4_Exemplos.ipynb\" target=\"_parent\"><img src=\"https://colab.research.google.com/assets/colab-badge.svg\" alt=\"Open In Colab\"/></a>"
      ]
    },
    {
      "cell_type": "markdown",
      "source": [
        "**EXEMPLO 1 - Comando FOR com RANGE**"
      ],
      "metadata": {
        "id": "kUCn1V6_6IgK"
      }
    },
    {
      "cell_type": "code",
      "execution_count": null,
      "metadata": {
        "colab": {
          "base_uri": "https://localhost:8080/"
        },
        "id": "E9PrANLE0sEl",
        "outputId": "4d693227-f398-43d3-f8e6-af9d55f33077"
      },
      "outputs": [
        {
          "output_type": "stream",
          "name": "stdout",
          "text": [
            "0\n",
            "1\n",
            "2\n",
            "3\n",
            "4\n"
          ]
        }
      ],
      "source": [
        "\n",
        "#quando colocamos apenas um número, esse número significa que vamos até\n",
        "#um antes dele (sempre um antes do número digitado)\n",
        "for i in range(5):\n",
        "  print(i)"
      ]
    },
    {
      "cell_type": "code",
      "source": [
        "#O primerio número no parênteses significa de onde iremos começar\n",
        "#O segundo número, até onde iremos (sempre um antes do número digitado)\n",
        "for i in range(2,6):\n",
        "  print(i)"
      ],
      "metadata": {
        "colab": {
          "base_uri": "https://localhost:8080/"
        },
        "id": "rBAfdoEM6Oau",
        "outputId": "b61b2c81-9fea-44d2-ac94-2ed00920d72e"
      },
      "execution_count": null,
      "outputs": [
        {
          "output_type": "stream",
          "name": "stdout",
          "text": [
            "2\n",
            "3\n",
            "4\n",
            "5\n"
          ]
        }
      ]
    },
    {
      "cell_type": "code",
      "source": [
        "#O primerio número no parênteses significa de onde iremos começar\n",
        "#O segundo número, até onde iremos (sempre um antes do número digitado)\n",
        "#O terceiro qual será esse intervalo (pra números positivos ou negativos)\n",
        "for i in range(5,26,5):\n",
        "  print(i)"
      ],
      "metadata": {
        "colab": {
          "base_uri": "https://localhost:8080/"
        },
        "id": "qm1GRpOX6xz4",
        "outputId": "cf80ee25-a387-4c2e-ea30-563675426092"
      },
      "execution_count": null,
      "outputs": [
        {
          "output_type": "stream",
          "name": "stdout",
          "text": [
            "5\n",
            "10\n",
            "15\n",
            "20\n",
            "25\n"
          ]
        }
      ]
    },
    {
      "cell_type": "markdown",
      "source": [
        "**EXEMPLO 2 - Comando FOR usando STRINGS**"
      ],
      "metadata": {
        "id": "qPIuGV-Q7YTS"
      }
    },
    {
      "cell_type": "code",
      "source": [
        "s = \"Python\"\n",
        "for c in s:\n",
        "  print(c)"
      ],
      "metadata": {
        "colab": {
          "base_uri": "https://localhost:8080/"
        },
        "id": "qL2R30qd7m-p",
        "outputId": "6faffc83-dafb-41b4-e51f-32fd3c393c39"
      },
      "execution_count": null,
      "outputs": [
        {
          "output_type": "stream",
          "name": "stdout",
          "text": [
            "P\n",
            "y\n",
            "t\n",
            "h\n",
            "o\n",
            "n\n"
          ]
        }
      ]
    },
    {
      "cell_type": "code",
      "source": [
        "\n",
        "for i,c in enumerate(\"Python\",1):\n",
        "  print(\"número\", i, \"ch:\",c)"
      ],
      "metadata": {
        "colab": {
          "base_uri": "https://localhost:8080/"
        },
        "id": "6BGUSj9V9uvG",
        "outputId": "39222c75-81b2-4b6f-faa2-ef990ac2aad4"
      },
      "execution_count": null,
      "outputs": [
        {
          "output_type": "stream",
          "name": "stdout",
          "text": [
            "número 1 ch: P\n",
            "número 2 ch: y\n",
            "número 3 ch: t\n",
            "número 4 ch: h\n",
            "número 5 ch: o\n",
            "número 6 ch: n\n"
          ]
        }
      ]
    },
    {
      "cell_type": "code",
      "source": [
        "\n",
        "for i,r in enumerate(range(0,51,5),1):\n",
        "  print(\"i=\", i, \"range=\",r)"
      ],
      "metadata": {
        "colab": {
          "base_uri": "https://localhost:8080/"
        },
        "id": "50Wte3ZX_SPQ",
        "outputId": "a448294b-c516-4c78-f399-16423af2dd47"
      },
      "execution_count": null,
      "outputs": [
        {
          "output_type": "stream",
          "name": "stdout",
          "text": [
            "i= 1 range= 0\n",
            "i= 2 range= 5\n",
            "i= 3 range= 10\n",
            "i= 4 range= 15\n",
            "i= 5 range= 20\n",
            "i= 6 range= 25\n",
            "i= 7 range= 30\n",
            "i= 8 range= 35\n",
            "i= 9 range= 40\n",
            "i= 10 range= 45\n",
            "i= 11 range= 50\n"
          ]
        }
      ]
    },
    {
      "cell_type": "markdown",
      "source": [
        "**EXEMPLO 3 - Usando o continue**"
      ],
      "metadata": {
        "id": "dHDk5M2UBPqo"
      }
    },
    {
      "cell_type": "code",
      "source": [
        "#O continue interrompe a execução atual, no nosso exemplo sempre que \n",
        "#aparecer um número par na seguência ele interrompe e pula pro próximo.\n",
        "\n",
        "for i in range(11):\n",
        "  if (i % 2) == 0:\n",
        "    continue\n",
        "  print(i)\n"
      ],
      "metadata": {
        "colab": {
          "base_uri": "https://localhost:8080/"
        },
        "id": "iMYed2GEBXMH",
        "outputId": "d3054600-c787-484d-d0ac-a9bcf4535384"
      },
      "execution_count": null,
      "outputs": [
        {
          "output_type": "stream",
          "name": "stdout",
          "text": [
            "1\n",
            "3\n",
            "5\n",
            "7\n",
            "9\n"
          ]
        }
      ]
    },
    {
      "cell_type": "code",
      "source": [
        "#Do mesmo modo poderiamos excluir algumas letra, \n",
        "#no código abaixo retiramos todas as vogais\n",
        "\n",
        "for c in \"Curso de Python\":\n",
        "  if c == \"a\" or c == \"e\" or c == \"i\" or  c == \"o\" or  c == \"u\":\n",
        "    continue\n",
        "  print(c)"
      ],
      "metadata": {
        "colab": {
          "base_uri": "https://localhost:8080/"
        },
        "id": "7hbgKGh6DFVD",
        "outputId": "9b7cf8fc-8efa-4655-c6d0-e0c68fbec1c3"
      },
      "execution_count": null,
      "outputs": [
        {
          "output_type": "stream",
          "name": "stdout",
          "text": [
            "C\n",
            "r\n",
            "s\n",
            " \n",
            "d\n",
            " \n",
            "P\n",
            "y\n",
            "t\n",
            "h\n",
            "n\n"
          ]
        }
      ]
    },
    {
      "cell_type": "markdown",
      "source": [
        "**EXEMPLO 4 - Usando FOR para calculo de potência**"
      ],
      "metadata": {
        "id": "5-8T4a3nEkMF"
      }
    },
    {
      "cell_type": "code",
      "source": [
        "base = 8\n",
        "expoente = 0\n",
        "potencia = 1\n",
        "for i in range(expoente):\n",
        "  potencia = potencia * base\n",
        "print(\"Calculado = \", potencia)\n",
        "print(\"Direto do python = \", base**expoente)"
      ],
      "metadata": {
        "colab": {
          "base_uri": "https://localhost:8080/"
        },
        "id": "kJN4__K3CnU6",
        "outputId": "6d48a32e-4ee1-4970-b320-e930483e1d42"
      },
      "execution_count": null,
      "outputs": [
        {
          "output_type": "stream",
          "name": "stdout",
          "text": [
            "Calculado =  1\n",
            "Direto do python =  1\n"
          ]
        }
      ]
    },
    {
      "cell_type": "markdown",
      "source": [
        "**EXEMPLO 5 - Calculando notas de varios alunos, usando laços de repetição**"
      ],
      "metadata": {
        "id": "FqnyKT5gInVv"
      }
    },
    {
      "cell_type": "code",
      "source": [
        "soma = 0\n",
        "alunos = int(input(\"Digite a quantidade de alunos na sala: \"))\n",
        "\n",
        "for aluno in range(alunos):\n",
        "  nome = input(\"Nome do(a) aluno(a) = \")\n",
        "  prova = float(input(\"Prova: \"))\n",
        "  atividades = float(input(\"Atividades: \"))\n",
        "  nota = prova*0.6 + atividades*0.4\n",
        "  print(\"Nota: \", nota)\n",
        "#Essa variável SOMA está guardando as notas dos alunos a cada loop.\n",
        "#Sempre que um finaliza, ela soma a nota que foi gerada com a soma das \n",
        "#notas anteriores.\n",
        "  soma = soma + nota\n",
        "  if nota >=5:\n",
        "    print(nome, \"foi aprovado(a)\")\n",
        "  else:\n",
        "    print(nome, \"foi Reprovado(a)\")\n",
        "media = soma / alunos\n",
        "print(\"Media geral dos alunos: \", media)\n",
        " "
      ],
      "metadata": {
        "colab": {
          "base_uri": "https://localhost:8080/"
        },
        "id": "9N-F3d5yI0CO",
        "outputId": "24b3e027-1ee1-46e3-cff5-cbe7626d8930"
      },
      "execution_count": null,
      "outputs": [
        {
          "output_type": "stream",
          "name": "stdout",
          "text": [
            "Digite a quantidade de alunos na sala: 5\n",
            "Nome do(a) aluno(a) = klayton\n",
            "Prova: 8\n",
            "Atividades: 5\n",
            "Nota:  6.8\n",
            "klayton  foi aprovado(a)\n",
            "Nome do(a) aluno(a) = marcos\n",
            "Prova: 8\n",
            "Atividades: 9\n",
            "Nota:  8.4\n",
            "marcos  foi aprovado(a)\n",
            "Nome do(a) aluno(a) = joao\n",
            "Prova: 2\n",
            "Atividades: 3\n",
            "Nota:  2.4000000000000004\n",
            "joao  foi Reprovado(a)\n",
            "Nome do(a) aluno(a) = nathalia\n",
            "Prova: 10\n",
            "Atividades: 10\n",
            "Nota:  10.0\n",
            "nathalia  foi aprovado(a)\n",
            "Nome do(a) aluno(a) = maria\n",
            "Prova: 9\n",
            "Atividades: 8\n",
            "Nota:  8.6\n",
            "maria  foi aprovado(a)\n",
            "Media final da sala:  7.24\n"
          ]
        }
      ]
    },
    {
      "cell_type": "markdown",
      "source": [
        "**EXEMPLO 6 - Achando números primos**"
      ],
      "metadata": {
        "id": "7SPB2Tj9VdG4"
      }
    },
    {
      "cell_type": "code",
      "source": [
        "n = int(input(\"Digite um número: \"))\n",
        "if n > 1:\n",
        "  for i in range(2,n):\n",
        "    if (n % i) == 0:\n",
        "      print(n, \"Não é primo,\") \n",
        "      print(\"por que\", n, \"é divisivel por\", i)  \n",
        "      break\n",
        "  else:\n",
        "    print(n, \"É primo\")    \n",
        "else:\n",
        "  print(n, \"Não é primo\")"
      ],
      "metadata": {
        "colab": {
          "base_uri": "https://localhost:8080/"
        },
        "id": "XyLPk24jVuwm",
        "outputId": "e83c8cb6-2e35-4d8a-cc44-aca9e8885e37"
      },
      "execution_count": null,
      "outputs": [
        {
          "output_type": "stream",
          "name": "stdout",
          "text": [
            "Digite um número: -8\n",
            "-8 Não é primo\n"
          ]
        }
      ]
    },
    {
      "cell_type": "markdown",
      "source": [
        "**EXEMPLO 7 - Sequência fibonacci**\n",
        "\n",
        "**O próximo da seguência é sempre igual a soma dos dois anteriores**"
      ],
      "metadata": {
        "id": "ujC9rswGaQrx"
      }
    },
    {
      "cell_type": "code",
      "source": [
        "n = 10\n",
        "ant2 = 0\n",
        "ant1 = 1\n",
        "print(ant2)\n",
        "print(ant1)\n",
        "for i in range(n-2):\n",
        "  atual = ant1 + ant2\n",
        "  print(atual)\n",
        "  ant2 = ant1\n",
        "  ant1 = atual\n",
        "  "
      ],
      "metadata": {
        "colab": {
          "base_uri": "https://localhost:8080/"
        },
        "id": "zBKKSRvlaema",
        "outputId": "284ba850-8597-4a4b-e83b-c9d2780f13af"
      },
      "execution_count": null,
      "outputs": [
        {
          "output_type": "stream",
          "name": "stdout",
          "text": [
            "0\n",
            "1\n",
            "1\n",
            "2\n",
            "3\n",
            "5\n",
            "8\n",
            "13\n",
            "21\n",
            "34\n"
          ]
        }
      ]
    },
    {
      "cell_type": "markdown",
      "source": [
        "**EXEMPLO 8 - Usando while**"
      ],
      "metadata": {
        "id": "0gH0hgzAcyN8"
      }
    },
    {
      "cell_type": "code",
      "source": [
        "soma = 0\n",
        "n = 5\n",
        "i = 1\n",
        "while i <= n:\n",
        "  soma = soma + i\n",
        "  i = i + 1\n",
        "print(soma)"
      ],
      "metadata": {
        "colab": {
          "base_uri": "https://localhost:8080/"
        },
        "id": "eTBQ6_0YY-9Q",
        "outputId": "557016f3-dc60-4c33-da58-2314d1cf18e7"
      },
      "execution_count": null,
      "outputs": [
        {
          "output_type": "stream",
          "name": "stdout",
          "text": [
            "15\n"
          ]
        }
      ]
    },
    {
      "cell_type": "markdown",
      "source": [
        "**Digite apenas números positivos**"
      ],
      "metadata": {
        "id": "66IuprFVg-oU"
      }
    },
    {
      "cell_type": "code",
      "source": [
        "numero = int(input(\"Digite um número positivo: \"))\n",
        "while numero <= 0:\n",
        "  numero = int(input(\"Número inválido, digite um número positivo: \"))\n",
        "print(\"Número:\", numero)"
      ],
      "metadata": {
        "colab": {
          "base_uri": "https://localhost:8080/"
        },
        "id": "6yXSmFungpBM",
        "outputId": "57e8a217-ab7f-41a7-8215-86d0305f9acd"
      },
      "execution_count": null,
      "outputs": [
        {
          "output_type": "stream",
          "name": "stdout",
          "text": [
            "Digite um número positivo: -6\n",
            "Número invalido, digite um número positivo: 0\n",
            "Número invalido, digite um número positivo: 8\n",
            "Número: 8\n"
          ]
        }
      ]
    },
    {
      "cell_type": "markdown",
      "source": [
        "**Aproximação do valor de PI**"
      ],
      "metadata": {
        "id": "ldWr_oMdiFb-"
      }
    },
    {
      "cell_type": "code",
      "source": [
        "#PI(3,1415...) = 4/1 - 4/3 + 4/5 - 4/7 + 4/9 - 4/11 + ...\n",
        "\n",
        "numerador = 4\n",
        "denominador = 1\n",
        "pi = 0\n",
        "iteracoes = 20000\n",
        "i = 0\n",
        "while i < iteracoes:\n",
        "  pi += numerador/denominador\n",
        "  numerador = -numerador\n",
        "  denominador += 2\n",
        "  i += 1\n",
        "print(pi)"
      ],
      "metadata": {
        "colab": {
          "base_uri": "https://localhost:8080/"
        },
        "id": "vQRZAvFwib4z",
        "outputId": "e2099ee8-42f6-4311-c921-f82fc867b8c3"
      },
      "execution_count": null,
      "outputs": [
        {
          "output_type": "stream",
          "name": "stdout",
          "text": [
            "3.1415426535898248\n"
          ]
        }
      ]
    },
    {
      "cell_type": "markdown",
      "source": [
        "**Calculando Médias**"
      ],
      "metadata": {
        "id": "2LZJ6sMZyvpg"
      }
    },
    {
      "cell_type": "code",
      "source": [
        "somanotas = 0\n",
        "contnotas = 0\n",
        "nota = float(input(\"Digite uma nota: (-1 finaliza o programa)\"))\n",
        "while nota != -1:\n",
        "  somanotas += nota\n",
        "  contnotas += 1\n",
        "  nota = float(input(\"Digite uma nota: (-1 finaliza o programa)\"))\n",
        "if contnotas != 0:\n",
        "  media = somanotas / contnotas\n",
        "  print(\"A média das notas digitadas é:\", media)"
      ],
      "metadata": {
        "colab": {
          "base_uri": "https://localhost:8080/"
        },
        "id": "BreWe4Fvy8HH",
        "outputId": "e41e00ba-757b-4dea-c8f0-092e384306b1"
      },
      "execution_count": null,
      "outputs": [
        {
          "output_type": "stream",
          "name": "stdout",
          "text": [
            "Digite uma nota: (-1 finaliza o programa)10\n",
            "Digite uma nota: (-1 finaliza o programa)9\n",
            "Digite uma nota: (-1 finaliza o programa)7\n",
            "Digite uma nota: (-1 finaliza o programa)6\n",
            "Digite uma nota: (-1 finaliza o programa)-1\n",
            "A média das notas digitadas é: 8.0\n"
          ]
        }
      ]
    },
    {
      "cell_type": "markdown",
      "source": [
        "**USANDO FLAGS**"
      ],
      "metadata": {
        "id": "4yaoFCQv7hg6"
      }
    },
    {
      "cell_type": "code",
      "source": [
        "flag = True\n",
        "soma = 0\n",
        "while flag:\n",
        "  n = int(input(\"Digite uma número: (0 termina): \"))\n",
        "  if (n == 0): #se isso for verdade é hora de sair\n",
        "    flag = False\n",
        "  else: #simplesmente acumula\n",
        "    soma += n\n",
        "print(\"A soma é:\", soma)"
      ],
      "metadata": {
        "colab": {
          "base_uri": "https://localhost:8080/"
        },
        "id": "8XPkRE3A7gDA",
        "outputId": "f934ed69-26b5-4dd5-f89c-f3b7ad1a6321"
      },
      "execution_count": null,
      "outputs": [
        {
          "output_type": "stream",
          "name": "stdout",
          "text": [
            "Digite uma número: (0 termina): 0\n",
            "A soma é: 0\n"
          ]
        }
      ]
    },
    {
      "cell_type": "markdown",
      "source": [
        "**Convertendo for em while**"
      ],
      "metadata": {
        "id": "9YKyRy7L97P3"
      }
    },
    {
      "cell_type": "code",
      "source": [
        "for i in range(5):\n",
        "  print(i)"
      ],
      "metadata": {
        "colab": {
          "base_uri": "https://localhost:8080/"
        },
        "id": "Zb1_u6Rw-CIj",
        "outputId": "40b3676e-72ae-47d1-be55-5d609f240cd1"
      },
      "execution_count": null,
      "outputs": [
        {
          "output_type": "stream",
          "name": "stdout",
          "text": [
            "0\n",
            "1\n",
            "2\n",
            "3\n",
            "4\n"
          ]
        }
      ]
    },
    {
      "cell_type": "code",
      "source": [
        "i = 0\n",
        "while i < 5:\n",
        "  print(i)\n",
        "  i += 1"
      ],
      "metadata": {
        "colab": {
          "base_uri": "https://localhost:8080/"
        },
        "id": "GLMvzfKR_QnR",
        "outputId": "3d4d58da-6f60-400a-c4be-02f3450cb161"
      },
      "execution_count": null,
      "outputs": [
        {
          "output_type": "stream",
          "name": "stdout",
          "text": [
            "0\n",
            "1\n",
            "2\n",
            "3\n",
            "4\n"
          ]
        }
      ]
    },
    {
      "cell_type": "code",
      "source": [
        "for i in range(1,101):\n",
        "  if (i % 3) == 0 and (i % 5) == 0:\n",
        "    print(\"Ô loco meu\")\n",
        "  if (i % 3) == 0:\n",
        "    print(\"Ô loco\")\n",
        "    continue\n",
        "  if (i % 5) == 0:\n",
        "    print(\"meu\")   \n",
        "    continue\n",
        "  print(i)"
      ],
      "metadata": {
        "colab": {
          "base_uri": "https://localhost:8080/"
        },
        "id": "5Skdl1uQ-jff",
        "outputId": "77b8b70d-6533-4e9f-9eb0-de77fb42aabf"
      },
      "execution_count": null,
      "outputs": [
        {
          "output_type": "stream",
          "name": "stdout",
          "text": [
            "1\n",
            "2\n",
            "Ô loco\n",
            "4\n",
            "meu\n",
            "Ô loco\n",
            "7\n",
            "8\n",
            "Ô loco\n",
            "meu\n",
            "11\n",
            "Ô loco\n",
            "13\n",
            "14\n",
            "Ô loco meu\n",
            "Ô loco\n",
            "16\n",
            "17\n",
            "Ô loco\n",
            "19\n",
            "meu\n",
            "Ô loco\n",
            "22\n",
            "23\n",
            "Ô loco\n",
            "meu\n",
            "26\n",
            "Ô loco\n",
            "28\n",
            "29\n",
            "Ô loco meu\n",
            "Ô loco\n",
            "31\n",
            "32\n",
            "Ô loco\n",
            "34\n",
            "meu\n",
            "Ô loco\n",
            "37\n",
            "38\n",
            "Ô loco\n",
            "meu\n",
            "41\n",
            "Ô loco\n",
            "43\n",
            "44\n",
            "Ô loco meu\n",
            "Ô loco\n",
            "46\n",
            "47\n",
            "Ô loco\n",
            "49\n",
            "meu\n",
            "Ô loco\n",
            "52\n",
            "53\n",
            "Ô loco\n",
            "meu\n",
            "56\n",
            "Ô loco\n",
            "58\n",
            "59\n",
            "Ô loco meu\n",
            "Ô loco\n",
            "61\n",
            "62\n",
            "Ô loco\n",
            "64\n",
            "meu\n",
            "Ô loco\n",
            "67\n",
            "68\n",
            "Ô loco\n",
            "meu\n",
            "71\n",
            "Ô loco\n",
            "73\n",
            "74\n",
            "Ô loco meu\n",
            "Ô loco\n",
            "76\n",
            "77\n",
            "Ô loco\n",
            "79\n",
            "meu\n",
            "Ô loco\n",
            "82\n",
            "83\n",
            "Ô loco\n",
            "meu\n",
            "86\n",
            "Ô loco\n",
            "88\n",
            "89\n",
            "Ô loco meu\n",
            "Ô loco\n",
            "91\n",
            "92\n",
            "Ô loco\n",
            "94\n",
            "meu\n",
            "Ô loco\n",
            "97\n",
            "98\n",
            "Ô loco\n",
            "meu\n"
          ]
        }
      ]
    },
    {
      "cell_type": "code",
      "source": [
        "\n",
        "\n",
        "for i in range(10,-3,-2):\n",
        "  print(i)\n"
      ],
      "metadata": {
        "colab": {
          "base_uri": "https://localhost:8080/"
        },
        "id": "doAF4CScA_EN",
        "outputId": "83df1067-cb3d-45f8-a709-089287e8223c"
      },
      "execution_count": null,
      "outputs": [
        {
          "output_type": "stream",
          "name": "stdout",
          "text": [
            "10\n",
            "8\n",
            "6\n",
            "4\n",
            "2\n",
            "0\n",
            "-2\n"
          ]
        }
      ]
    }
  ]
}